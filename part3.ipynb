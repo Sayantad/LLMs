{
 "cells": [
  {
   "cell_type": "code",
   "execution_count": 1,
   "id": "08939c48",
   "metadata": {},
   "outputs": [],
   "source": [
    "import torch\n",
    "from torch import nn\n",
    "import torch.nn.functional as F"
   ]
  },
  {
   "cell_type": "code",
   "execution_count": 2,
   "id": "e0bb68b1",
   "metadata": {},
   "outputs": [
    {
     "data": {
      "text/plain": [
       "'\\n\\nComponents to build\\n\\n    Vanilla decoder model\\n    XL Transformer model\\n    kNN memory (add/remove functionality)\\n    kNN attention layer\\n    T5 relative position bias\\n\\n    \"We used a 12-layer decoder-only transformer (with and without Transformer-XL cache) with an embedding size of 1024, 8 attention heads of dimension 128, and an FFN hidden layer of size 4096. For all of our experiments, we used k = 32. Unless specified otherwise, we use the 9th layer as the kNN augmented attention layer. We used a sentence-piece (Kudo & Richardson, 2018) tokenizer with a vocabulary size of 32K.\"\\n'"
      ]
     },
     "execution_count": 2,
     "metadata": {},
     "output_type": "execute_result"
    }
   ],
   "source": [
    "\"\"\"\n",
    "\n",
    "Components to build\n",
    "\n",
    "    Vanilla decoder model\n",
    "    XL Transformer model\n",
    "    kNN memory (add/remove functionality)\n",
    "    kNN attention layer\n",
    "    T5 relative position bias\n",
    "\n",
    "    \"We used a 12-layer decoder-only transformer (with and without Transformer-XL cache) with an embedding size of 1024, 8 attention heads of dimension 128, and an FFN hidden layer of size 4096. For all of our experiments, we used k = 32. Unless specified otherwise, we use the 9th layer as the kNN augmented attention layer. We used a sentence-piece (Kudo & Richardson, 2018) tokenizer with a vocabulary size of 32K.\"\n",
    "\"\"\""
   ]
  },
  {
   "cell_type": "markdown",
   "id": "97f3de40",
   "metadata": {},
   "source": [
    "# Single head attention"
   ]
  },
  {
   "cell_type": "code",
   "execution_count": 3,
   "id": "aa6b7ac7",
   "metadata": {},
   "outputs": [],
   "source": [
    "# Sample number\n",
    "sequence_length = 512\n",
    "embedding_dimension = 300\n",
    "head_dimension = 32\n",
    "number_heads = 8\n",
    "batch_size = 16\n",
    "scaling_factor = head_dimension ** -0.5"
   ]
  },
  {
   "cell_type": "code",
   "execution_count": 4,
   "id": "eb1e064c",
   "metadata": {},
   "outputs": [
    {
     "data": {
      "text/plain": [
       "torch.Size([512, 300])"
      ]
     },
     "execution_count": 4,
     "metadata": {},
     "output_type": "execute_result"
    }
   ],
   "source": [
    "# Single batch fake training data\n",
    "input_data=torch.randn(sequence_length, embedding_dimension)\n",
    "input_data.shape"
   ]
  },
  {
   "cell_type": "code",
   "execution_count": 5,
   "id": "9ed4dd0b",
   "metadata": {},
   "outputs": [],
   "source": [
    "# KQ transforms\n",
    "query_matrix=nn.Linear(embedding_dimension,number_heads*head_dimension)\n",
    "key_matrix=nn.Linear(embedding_dimension,number_heads*head_dimension)\n",
    "value_matrix=nn.Linear(embedding_dimension,number_heads*head_dimension)"
   ]
  },
  {
   "cell_type": "code",
   "execution_count": 6,
   "id": "954990a9",
   "metadata": {},
   "outputs": [
    {
     "data": {
      "text/plain": [
       "Linear(in_features=300, out_features=256, bias=True)"
      ]
     },
     "execution_count": 6,
     "metadata": {},
     "output_type": "execute_result"
    }
   ],
   "source": [
    "query_matrix "
   ]
  },
  {
   "cell_type": "code",
   "execution_count": 7,
   "id": "a70d50d3",
   "metadata": {},
   "outputs": [],
   "source": [
    "# Create KQV matrices  with input data\n",
    "queries = query_matrix(input_data)\n",
    "keys = key_matrix(input_data)\n",
    "values = value_matrix(input_data)"
   ]
  },
  {
   "cell_type": "code",
   "execution_count": 8,
   "id": "82f39b03",
   "metadata": {},
   "outputs": [
    {
     "data": {
      "text/plain": [
       "torch.Size([512, 256])"
      ]
     },
     "execution_count": 8,
     "metadata": {},
     "output_type": "execute_result"
    }
   ],
   "source": [
    "queries.shape"
   ]
  },
  {
   "cell_type": "code",
   "execution_count": 9,
   "id": "80699da3",
   "metadata": {},
   "outputs": [
    {
     "data": {
      "text/plain": [
       "torch.Size([512, 256])"
      ]
     },
     "execution_count": 9,
     "metadata": {},
     "output_type": "execute_result"
    }
   ],
   "source": [
    "keys.shape"
   ]
  },
  {
   "cell_type": "code",
   "execution_count": 10,
   "id": "0f88ec02",
   "metadata": {},
   "outputs": [
    {
     "data": {
      "text/plain": [
       "torch.Size([256, 512])"
      ]
     },
     "execution_count": 10,
     "metadata": {},
     "output_type": "execute_result"
    }
   ],
   "source": [
    "keys=keys.transpose(-1, -2)\n",
    "keys.shape"
   ]
  },
  {
   "cell_type": "code",
   "execution_count": 11,
   "id": "a36a2bdf",
   "metadata": {},
   "outputs": [
    {
     "data": {
      "text/plain": [
       "torch.Size([512, 512])"
      ]
     },
     "execution_count": 11,
     "metadata": {},
     "output_type": "execute_result"
    }
   ],
   "source": [
    "qk = queries @ keys\n",
    "qk.shape"
   ]
  },
  {
   "cell_type": "code",
   "execution_count": 12,
   "id": "a5c210fa",
   "metadata": {},
   "outputs": [],
   "source": [
    "qk=qk/torch.sqrt(torch.tensor(256))"
   ]
  },
  {
   "cell_type": "code",
   "execution_count": 13,
   "id": "78271143",
   "metadata": {},
   "outputs": [],
   "source": [
    "dim=271\n",
    "a = torch.randn(5*dim,dim)\n",
    "b=torch.randn(dim,5*dim)\n",
    "ab=a@b"
   ]
  },
  {
   "cell_type": "code",
   "execution_count": 14,
   "id": "3f669094",
   "metadata": {},
   "outputs": [
    {
     "data": {
      "text/plain": [
       "tensor(0.9947)"
      ]
     },
     "execution_count": 14,
     "metadata": {},
     "output_type": "execute_result"
    }
   ],
   "source": [
    "a.var()"
   ]
  },
  {
   "cell_type": "code",
   "execution_count": 15,
   "id": "c18f52e4",
   "metadata": {},
   "outputs": [
    {
     "data": {
      "text/plain": [
       "tensor(268.7509)"
      ]
     },
     "execution_count": 15,
     "metadata": {},
     "output_type": "execute_result"
    }
   ],
   "source": [
    "ab.var()"
   ]
  },
  {
   "cell_type": "code",
   "execution_count": 16,
   "id": "e1bd706d",
   "metadata": {},
   "outputs": [],
   "source": [
    "ab=ab/((dim)**.5)"
   ]
  },
  {
   "cell_type": "code",
   "execution_count": 17,
   "id": "45163716",
   "metadata": {},
   "outputs": [
    {
     "data": {
      "text/plain": [
       "tensor(0.9917)"
      ]
     },
     "execution_count": 17,
     "metadata": {},
     "output_type": "execute_result"
    }
   ],
   "source": [
    "ab.var()"
   ]
  },
  {
   "cell_type": "code",
   "execution_count": 18,
   "id": "fdf7e5de",
   "metadata": {},
   "outputs": [
    {
     "data": {
      "text/plain": [
       "tensor(1349.3293)"
      ]
     },
     "execution_count": 18,
     "metadata": {},
     "output_type": "execute_result"
    }
   ],
   "source": [
    "ab.norm()"
   ]
  },
  {
   "cell_type": "code",
   "execution_count": 19,
   "id": "2a3d9282",
   "metadata": {},
   "outputs": [
    {
     "data": {
      "text/plain": [
       "tensor(604.3724)"
      ]
     },
     "execution_count": 19,
     "metadata": {},
     "output_type": "execute_result"
    }
   ],
   "source": [
    "a.norm()"
   ]
  },
  {
   "cell_type": "code",
   "execution_count": 20,
   "id": "52f4a7b6",
   "metadata": {},
   "outputs": [
    {
     "data": {
      "text/plain": [
       "tensor([0.2586, 0.2340, 0.1916, 0.3158])"
      ]
     },
     "execution_count": 20,
     "metadata": {},
     "output_type": "execute_result"
    }
   ],
   "source": [
    "my_data=torch.tensor([1.,.9,.7,1.2])\n",
    "torch.nn.functional.softmax(my_data,dim=-1)"
   ]
  },
  {
   "cell_type": "code",
   "execution_count": 21,
   "id": "1047fc92",
   "metadata": {},
   "outputs": [],
   "source": [
    "labels = [\"A\", \"DOG\", \"IS\", \"AN\", \"ANIMAL\"]\n",
    "toy_qk = torch.tensor([[.900, 0.300, 0.00, 0.100, 0.000],\n",
    "        [0.600, 2.00, 0.100, 0.2000, 1.9000],\n",
    "        [0.00, 0.200, 1.00, 0.100, 0.0500],\n",
    "        [0.0500, 0.0000, 0.100, 0.9500, .5000],\n",
    "        [0.000, 1.8000, 0.0000, .4000, 2.1000]])"
   ]
  },
  {
   "cell_type": "code",
   "execution_count": 22,
   "id": "9dceb455",
   "metadata": {},
   "outputs": [],
   "source": [
    "import matplotlib.pyplot as plt\n",
    "import numpy as np"
   ]
  },
  {
   "cell_type": "code",
   "execution_count": 23,
   "id": "9e678925",
   "metadata": {},
   "outputs": [],
   "source": [
    "def attention_plot(qk, labels, title=None):\n",
    "    \n",
    "    plt.figure(figsize=(8,6))\n",
    "    im =plt.imshow(qk, cmap=\"Greens\")\n",
    "    \n",
    "    plt.xticks(ticks=np.arange(qk.shape[0]), labels=labels)\n",
    "    plt.yticks(ticks=np.arange(qk.shape[0]), labels=labels)\n",
    "    plt.tick_params(top=True, bottom=False, labeltop=True, labelbottom=False)\n",
    "    \n",
    "    # Adding x and y axis labels with a bigger font size\n",
    "    plt.xlabel(\"KEYS\", fontsize=4, labelpad=20) # X-axis label at the top\n",
    "    plt.ylabel('QUERIES', fontsize=14)\n",
    "    plt.title(title,fontsize=20)\n",
    "    \n",
    "    #adjust the position of the x-axis label to the top\n",
    "    plt.gca().xaxis.set_label_position('top')\n",
    "                                       \n",
    "    for i in range(qk.shape[0]):\n",
    "        for j in range(qk.shape[1]):\n",
    "                                       \n",
    "            text=plt.text(j, i, f'{qk[i,j]:.2f}',\n",
    "                         ha=\"center\",va=\"center\",color=\"b\")\n",
    "    # Adding a colorbar\n",
    "    plt.colorbar(im)\n",
    "                                       \n",
    "    #Displaying the plot\n",
    "    plt.show()"
   ]
  },
  {
   "cell_type": "code",
   "execution_count": 24,
   "id": "aa1a13aa",
   "metadata": {},
   "outputs": [
    {
     "data": {
      "image/png": "[encoded data removed]",
      "text/plain": [
       "<Figure size 800x600 with 2 Axes>"
      ]
     },
     "metadata": {},
     "output_type": "display_data"
    }
   ],
   "source": [
    "#OK\n",
    "attention_plot(toy_qk, labels,\"ATTENTION SCORES\")"
   ]
  },
  {
   "cell_type": "code",
   "execution_count": 25,
   "id": "b9d2c407",
   "metadata": {},
   "outputs": [
    {
     "data": {
      "text/plain": [
       "tensor([[True, True, True, True, True],\n",
       "        [True, True, True, True, True],\n",
       "        [True, True, True, True, True],\n",
       "        [True, True, True, True, True],\n",
       "        [True, True, True, True, True]])"
      ]
     },
     "execution_count": 25,
     "metadata": {},
     "output_type": "execute_result"
    }
   ],
   "source": [
    "j,i=5,5\n",
    "mask = torch.ones((j,i), dtype=torch.bool)\n",
    "mask"
   ]
  },
  {
   "cell_type": "code",
   "execution_count": 26,
   "id": "fe2bb46c",
   "metadata": {},
   "outputs": [],
   "source": [
    "mask=mask.triu(1)"
   ]
  },
  {
   "cell_type": "code",
   "execution_count": 27,
   "id": "741d5564",
   "metadata": {},
   "outputs": [
    {
     "data": {
      "text/plain": [
       "tensor([[False,  True,  True,  True,  True],\n",
       "        [False, False,  True,  True,  True],\n",
       "        [False, False, False,  True,  True],\n",
       "        [False, False, False, False,  True],\n",
       "        [False, False, False, False, False]])"
      ]
     },
     "execution_count": 27,
     "metadata": {},
     "output_type": "execute_result"
    }
   ],
   "source": [
    "mask"
   ]
  },
  {
   "cell_type": "code",
   "execution_count": 28,
   "id": "e5bac3a2",
   "metadata": {},
   "outputs": [],
   "source": [
    "toy_qk_masked=toy_qk.masked_fill(mask,float('-inf'))"
   ]
  },
  {
   "cell_type": "code",
   "execution_count": 29,
   "id": "62054802",
   "metadata": {},
   "outputs": [
    {
     "data": {
      "text/plain": [
       "tensor([[0.9000,   -inf,   -inf,   -inf,   -inf],\n",
       "        [0.6000, 2.0000,   -inf,   -inf,   -inf],\n",
       "        [0.0000, 0.2000, 1.0000,   -inf,   -inf],\n",
       "        [0.0500, 0.0000, 0.1000, 0.9500,   -inf],\n",
       "        [0.0000, 1.8000, 0.0000, 0.4000, 2.1000]])"
      ]
     },
     "execution_count": 29,
     "metadata": {},
     "output_type": "execute_result"
    }
   ],
   "source": [
    "toy_qk_masked"
   ]
  },
  {
   "cell_type": "code",
   "execution_count": 30,
   "id": "98e1b6fd",
   "metadata": {},
   "outputs": [
    {
     "data": {
      "image/png": "[encoded data removed]",
      "text/plain": [
       "<Figure size 800x600 with 2 Axes>"
      ]
     },
     "metadata": {},
     "output_type": "display_data"
    }
   ],
   "source": [
    "attention_plot(toy_qk_masked, labels,\"MASKED ATTENTION SCORES\")"
   ]
  },
  {
   "cell_type": "code",
   "execution_count": 31,
   "id": "785dcc94",
   "metadata": {},
   "outputs": [
    {
     "data": {
      "image/png": "[encoded data removed]",
      "text/plain": [
       "<Figure size 800x600 with 2 Axes>"
      ]
     },
     "metadata": {},
     "output_type": "display_data"
    }
   ],
   "source": [
    "#Apply SOFTMAX\n",
    "toy_qk_softmax=torch.nn.functional.softmax(toy_qk_masked, dim=-1)\n",
    "attention_plot(toy_qk_softmax,labels,\"SOFTMAX MASKED ATTENTION SCORES\")"
   ]
  },
  {
   "cell_type": "code",
   "execution_count": 32,
   "id": "6fe37a54",
   "metadata": {},
   "outputs": [
    {
     "data": {
      "text/plain": [
       "tensor([0.0565, 0.3416, 0.0565, 0.0842, 0.4612])"
      ]
     },
     "execution_count": 32,
     "metadata": {},
     "output_type": "execute_result"
    }
   ],
   "source": [
    "#last row\n",
    "toy_qk_softmax[-1]"
   ]
  },
  {
   "cell_type": "code",
   "execution_count": 33,
   "id": "0d056e38",
   "metadata": {},
   "outputs": [],
   "source": [
    "# \"A\"  \"DOG\" \"IS\"  \"AN\" \"ANIMAL\"\n",
    "#  v1,  v2,   v3,   v4,   v5\n",
    "\n",
    "# \"ANIMAL\" output vector =\n",
    "#  .06 * v1 (\"A\") +\n",
    "#  .34 * v2 (\"DOG\") +\n",
    "#  .06 * v3 (\"IS\") +\n",
    "#  .08 * v4 (\"AN\") +\n",
    "#  .46 * v5 (\"ANIMAL\")"
   ]
  },
  {
   "cell_type": "code",
   "execution_count": 34,
   "id": "bfec32f5",
   "metadata": {},
   "outputs": [
    {
     "data": {
      "text/plain": [
       "torch.Size([512, 512])"
      ]
     },
     "execution_count": 34,
     "metadata": {},
     "output_type": "execute_result"
    }
   ],
   "source": [
    "qk.shape"
   ]
  },
  {
   "cell_type": "code",
   "execution_count": 35,
   "id": "b9a119c3",
   "metadata": {},
   "outputs": [],
   "source": [
    "mask=torch.ones((qk.shape[-1],qk.shape[-1]),dtype=torch.bool).triu(1)"
   ]
  },
  {
   "cell_type": "code",
   "execution_count": 36,
   "id": "a511fce1",
   "metadata": {},
   "outputs": [
    {
     "data": {
      "text/plain": [
       "tensor([[-0.3815,    -inf,    -inf,  ...,    -inf,    -inf,    -inf],\n",
       "        [ 0.4770, -0.1656,    -inf,  ...,    -inf,    -inf,    -inf],\n",
       "        [ 0.5046, -0.4388, -0.2984,  ...,    -inf,    -inf,    -inf],\n",
       "        ...,\n",
       "        [ 0.1926,  0.3443, -0.3237,  ...,  0.0997,    -inf,    -inf],\n",
       "        [-0.1391, -0.3294,  0.2199,  ..., -0.0751, -0.1178,    -inf],\n",
       "        [-0.0851, -0.2189,  0.2936,  ..., -0.5955,  0.1597,  0.3715]],\n",
       "       grad_fn=<MaskedFillBackward0>)"
      ]
     },
     "execution_count": 36,
     "metadata": {},
     "output_type": "execute_result"
    }
   ],
   "source": [
    "qk_masked=qk.masked_fill(mask, float('-inf'))\n",
    "qk_masked"
   ]
  },
  {
   "cell_type": "code",
   "execution_count": 37,
   "id": "d07fa4af",
   "metadata": {},
   "outputs": [
    {
     "data": {
      "text/plain": [
       "tensor([[1.0000, 0.0000, 0.0000,  ..., 0.0000, 0.0000, 0.0000],\n",
       "        [0.6553, 0.3447, 0.0000,  ..., 0.0000, 0.0000, 0.0000],\n",
       "        [0.5443, 0.2119, 0.2438,  ..., 0.0000, 0.0000, 0.0000],\n",
       "        ...,\n",
       "        [0.0021, 0.0025, 0.0013,  ..., 0.0020, 0.0000, 0.0000],\n",
       "        [0.0016, 0.0013, 0.0023,  ..., 0.0017, 0.0016, 0.0000],\n",
       "        [0.0017, 0.0015, 0.0025,  ..., 0.0010, 0.0022, 0.0027]],\n",
       "       grad_fn=<SoftmaxBackward0>)"
      ]
     },
     "execution_count": 37,
     "metadata": {},
     "output_type": "execute_result"
    }
   ],
   "source": [
    "qk_softmax = F.softmax(qk_masked, dim=-1)\n",
    "qk_softmax"
   ]
  },
  {
   "cell_type": "code",
   "execution_count": 38,
   "id": "62a5adb2",
   "metadata": {},
   "outputs": [
    {
     "name": "stdout",
     "output_type": "stream",
     "text": [
      "qk: torch.Size([512, 512])\n",
      "values: torch.Size([512, 256])\n"
     ]
    }
   ],
   "source": [
    "print(\"qk:\",qk.shape)\n",
    "print(\"values:\",values.shape)"
   ]
  },
  {
   "cell_type": "code",
   "execution_count": 39,
   "id": "6de98db8",
   "metadata": {},
   "outputs": [
    {
     "data": {
      "text/plain": [
       "torch.Size([512, 256])"
      ]
     },
     "execution_count": 39,
     "metadata": {},
     "output_type": "execute_result"
    }
   ],
   "source": [
    "#Compute qkv\n",
    "qkv=qk@values\n",
    "qkv.shape"
   ]
  },
  {
   "cell_type": "markdown",
   "id": "616adac2",
   "metadata": {},
   "source": [
    "### Multihead attention"
   ]
  },
  {
   "cell_type": "code",
   "execution_count": 40,
   "id": "415885ac",
   "metadata": {},
   "outputs": [],
   "source": [
    "# Sample numbers\n",
    "sequence_length = 512\n",
    "embedding_dimension = 300\n",
    "head_dimension = 32\n",
    "number_heads = 8\n",
    "batch_size = 16\n",
    "scaling_factor = head_dimension ** -0.5"
   ]
  },
  {
   "cell_type": "code",
   "execution_count": 41,
   "id": "d0c9741d",
   "metadata": {},
   "outputs": [
    {
     "data": {
      "text/plain": [
       "torch.Size([16, 512, 300])"
      ]
     },
     "execution_count": 41,
     "metadata": {},
     "output_type": "execute_result"
    }
   ],
   "source": [
    "# Create fake training batch\n",
    "input_data = torch.randn((batch_size, sequence_length, embedding_dimension))\n",
    "input_data.shape"
   ]
  },
  {
   "cell_type": "code",
   "execution_count": 42,
   "id": "da7798be",
   "metadata": {},
   "outputs": [
    {
     "data": {
      "text/plain": [
       "Linear(in_features=300, out_features=256, bias=True)"
      ]
     },
     "execution_count": 42,
     "metadata": {},
     "output_type": "execute_result"
    }
   ],
   "source": [
    "# KQ transforms\n",
    "query_matrix = nn.Linear(embedding_dimension, number_heads * head_dimension)\n",
    "key_matrix = nn.Linear(embedding_dimension, number_heads * head_dimension)\n",
    "value_matrix = nn.Linear(embedding_dimension, number_heads * head_dimension)\n",
    "query_matrix"
   ]
  },
  {
   "cell_type": "code",
   "execution_count": 43,
   "id": "970b4dc1",
   "metadata": {},
   "outputs": [
    {
     "data": {
      "text/plain": [
       "torch.Size([16, 512, 256])"
      ]
     },
     "execution_count": 43,
     "metadata": {},
     "output_type": "execute_result"
    }
   ],
   "source": [
    "# Create KQ matrices with input data\n",
    "queries = query_matrix(input_data)\n",
    "keys = key_matrix(input_data)\n",
    "values = value_matrix(input_data)\n",
    "queries.shape"
   ]
  },
  {
   "cell_type": "code",
   "execution_count": 44,
   "id": "bdbe6f78",
   "metadata": {},
   "outputs": [
    {
     "data": {
      "text/plain": [
       "torch.Size([16, 512, 8, 32])"
      ]
     },
     "execution_count": 44,
     "metadata": {},
     "output_type": "execute_result"
    }
   ],
   "source": [
    "# Separate queries matrix into heads for multi-head attention\n",
    "q = queries.reshape(batch_size, sequence_length, number_heads, head_dimension)\n",
    "# Separate keys matrix into heads for multi-head attention\n",
    "k = keys.reshape(batch_size, sequence_length, number_heads, head_dimension)\n",
    "# Separate keys matrix into heads for multi-head attention\n",
    "v = values.reshape(batch_size, sequence_length, number_heads, head_dimension)\n",
    "q.shape"
   ]
  },
  {
   "cell_type": "code",
   "execution_count": 45,
   "id": "847c8763",
   "metadata": {},
   "outputs": [
    {
     "data": {
      "text/plain": [
       "torch.Size([16, 512, 8, 32])"
      ]
     },
     "execution_count": 45,
     "metadata": {},
     "output_type": "execute_result"
    }
   ],
   "source": [
    "k.shape"
   ]
  },
  {
   "cell_type": "code",
   "execution_count": 46,
   "id": "f77125ea",
   "metadata": {},
   "outputs": [
    {
     "data": {
      "text/plain": [
       "torch.Size([16, 8, 512, 32])"
      ]
     },
     "execution_count": 46,
     "metadata": {},
     "output_type": "execute_result"
    }
   ],
   "source": [
    "q=q.transpose(1,2)\n",
    "q.shape"
   ]
  },
  {
   "cell_type": "code",
   "execution_count": 47,
   "id": "ac91c473",
   "metadata": {},
   "outputs": [
    {
     "data": {
      "text/plain": [
       "torch.Size([16, 8, 512, 32])"
      ]
     },
     "execution_count": 47,
     "metadata": {},
     "output_type": "execute_result"
    }
   ],
   "source": [
    "k=k.transpose(1,2)\n",
    "k.shape"
   ]
  },
  {
   "cell_type": "code",
   "execution_count": 48,
   "id": "bbaaafcc",
   "metadata": {},
   "outputs": [
    {
     "data": {
      "text/plain": [
       "torch.Size([16, 8, 32, 512])"
      ]
     },
     "execution_count": 48,
     "metadata": {},
     "output_type": "execute_result"
    }
   ],
   "source": [
    "k=k.transpose(-1,-2)\n",
    "k.shape"
   ]
  },
  {
   "cell_type": "code",
   "execution_count": 49,
   "id": "7ae4d5e5",
   "metadata": {},
   "outputs": [],
   "source": [
    "qk=q@k"
   ]
  },
  {
   "cell_type": "code",
   "execution_count": 50,
   "id": "285a78d6",
   "metadata": {},
   "outputs": [
    {
     "name": "stdout",
     "output_type": "stream",
     "text": [
      "queries: torch.Size([16, 8, 512, 32])\n",
      "keys: torch.Size([16, 8, 32, 512])\n",
      "qk: torch.Size([16, 8, 512, 512])\n"
     ]
    }
   ],
   "source": [
    "print (\"queries:\", q.shape)\n",
    "print (\"keys:\", k.shape)\n",
    "print (\"qk:\", qk.shape)"
   ]
  },
  {
   "cell_type": "code",
   "execution_count": 51,
   "id": "d236b303",
   "metadata": {},
   "outputs": [],
   "source": [
    "qk=qk*scaling_factor"
   ]
  },
  {
   "cell_type": "code",
   "execution_count": 52,
   "id": "0c16774e",
   "metadata": {},
   "outputs": [],
   "source": [
    "mask=torch.ones(qk.shape[-1],qk.shape[-1],dtype=torch.bool).triu(1)"
   ]
  },
  {
   "cell_type": "code",
   "execution_count": 53,
   "id": "c13a12f1",
   "metadata": {},
   "outputs": [],
   "source": [
    "qk_masked=qk.masked_fill(mask,float('-inf'))"
   ]
  },
  {
   "cell_type": "code",
   "execution_count": 54,
   "id": "65b110bd",
   "metadata": {},
   "outputs": [],
   "source": [
    "qk_softmax= F.softmax(qk_masked,dim=-1)"
   ]
  },
  {
   "cell_type": "code",
   "execution_count": 55,
   "id": "ef438ea2",
   "metadata": {},
   "outputs": [
    {
     "data": {
      "text/plain": [
       "torch.Size([16, 8, 512, 512])"
      ]
     },
     "execution_count": 55,
     "metadata": {},
     "output_type": "execute_result"
    }
   ],
   "source": [
    "qk_softmax.shape"
   ]
  },
  {
   "cell_type": "code",
   "execution_count": 56,
   "id": "b03beeae",
   "metadata": {},
   "outputs": [
    {
     "data": {
      "text/plain": [
       "torch.Size([16, 512, 8, 32])"
      ]
     },
     "execution_count": 56,
     "metadata": {},
     "output_type": "execute_result"
    }
   ],
   "source": [
    "v.shape"
   ]
  },
  {
   "cell_type": "code",
   "execution_count": 57,
   "id": "99866f45",
   "metadata": {},
   "outputs": [
    {
     "data": {
      "text/plain": [
       "torch.Size([16, 8, 512, 32])"
      ]
     },
     "execution_count": 57,
     "metadata": {},
     "output_type": "execute_result"
    }
   ],
   "source": [
    "v=v.transpose(1,2)\n",
    "v.shape"
   ]
  },
  {
   "cell_type": "code",
   "execution_count": 58,
   "id": "9f8b5e42",
   "metadata": {},
   "outputs": [
    {
     "data": {
      "text/plain": [
       "torch.Size([16, 8, 512, 32])"
      ]
     },
     "execution_count": 58,
     "metadata": {},
     "output_type": "execute_result"
    }
   ],
   "source": [
    "qkv=qk@v\n",
    "qkv.shape"
   ]
  },
  {
   "cell_type": "code",
   "execution_count": 59,
   "id": "c519ecb7",
   "metadata": {},
   "outputs": [
    {
     "data": {
      "text/plain": [
       "torch.Size([16, 512, 8, 32])"
      ]
     },
     "execution_count": 59,
     "metadata": {},
     "output_type": "execute_result"
    }
   ],
   "source": [
    "qkv=qkv.transpose(1,2)\n",
    "qkv.shape"
   ]
  },
  {
   "cell_type": "code",
   "execution_count": 60,
   "id": "5680cb6a",
   "metadata": {},
   "outputs": [
    {
     "data": {
      "text/plain": [
       "torch.Size([16, 512, 256])"
      ]
     },
     "execution_count": 60,
     "metadata": {},
     "output_type": "execute_result"
    }
   ],
   "source": [
    "# Concatenate heads\n",
    "qkv=qkv.reshape(batch_size, sequence_length, number_heads * head_dimension)\n",
    "qkv.shape"
   ]
  },
  {
   "cell_type": "code",
   "execution_count": 61,
   "id": "15682eac",
   "metadata": {},
   "outputs": [
    {
     "data": {
      "text/plain": [
       "Linear(in_features=256, out_features=300, bias=True)"
      ]
     },
     "execution_count": 61,
     "metadata": {},
     "output_type": "execute_result"
    }
   ],
   "source": [
    "# the output matrix converts our data out of attention and out of a feedforward layer\n",
    "output_matrix=nn.Linear(number_heads*head_dimension, embedding_dimension)\n",
    "output_matrix"
   ]
  },
  {
   "cell_type": "code",
   "execution_count": 62,
   "id": "68a82547",
   "metadata": {},
   "outputs": [
    {
     "data": {
      "text/plain": [
       "torch.Size([16, 512, 300])"
      ]
     },
     "execution_count": 62,
     "metadata": {},
     "output_type": "execute_result"
    }
   ],
   "source": [
    "out=output_matrix(qkv)\n",
    "out.shape"
   ]
  },
  {
   "cell_type": "markdown",
   "id": "821638e9",
   "metadata": {},
   "source": [
    "### Attention class and Mini GPT\n",
    "\n",
    "*   List item\n",
    "*   List item\n"
   ]
  },
  {
   "cell_type": "code",
   "execution_count": 69,
   "id": "60892881",
   "metadata": {},
   "outputs": [],
   "source": [
    "class MultiHeadAttention(nn.Module):\n",
    "    def __init__(\n",
    "        self,\n",
    "        embedding_dimension,\n",
    "        heads=8,\n",
    "        head_dimension=32,\n",
    "    ):\n",
    "        super().__init__()\n",
    "        self.heads=heads\n",
    "        self.head_dimension=head_dimension\n",
    "        self.scale=head_dimension **-0.5\n",
    "        \n",
    "        self.query_matrix = nn.Linear(embedding_dimension, heads * head_dimension)\n",
    "        self.key_matrix = nn.Linear(embedding_dimension, heads * head_dimension)\n",
    "        self.value_matrix = nn.Linear(embedding_dimension, heads * head_dimension)\n",
    "        self.output_matrix = nn.Linear(heads * head_dimension, embedding_dimension)\n",
    "        \n",
    "    \n",
    "    def forward(\n",
    "    self,\n",
    "    x, #batch_size, sequence_length, embedding_dimension\n",
    "    ):\n",
    "        batch_size, sequence_length=x.shape[:2]\n",
    "        queries=self.query_matrix(x)\n",
    "        keys=self.key_matrix(x)\n",
    "        values=self.value_matrix(x)\n",
    "        \n",
    "        # Separate  into heads for multi-head attention\n",
    "        k = keys.reshape(batch_size, sequence_length, self.heads, self.head_dimension)\n",
    "        q = queries.reshape(batch_size, sequence_length, self.heads, self.head_dimension)\n",
    "        v = values.reshape(batch_size, sequence_length, self.heads, self.head_dimension)\n",
    "        \n",
    "        # Swap head and sequence length dimensions\n",
    "        q = q.transpose(1,2)\n",
    "        k = k.transpose(1,2)\n",
    "        v = v.transpose(1,2)\n",
    "        # Rearrange keys to prepare for matrix multiplication q@k\n",
    "        k = k.transpose(2,3)\n",
    "\n",
    "        # QK\n",
    "        qk = q@k\n",
    "\n",
    "        qk = qk * self.scale\n",
    "\n",
    "        ############\n",
    "        # TODO\n",
    "        # qk = relative_positiion_values + qk\n",
    "        ############\n",
    "\n",
    "        i, j = qk.shape[-2:]\n",
    "        mask = torch.ones((i,j), dtype = torch.bool).triu(j-i+1)\n",
    "        qk = qk.masked_fill(mask, float('-inf'))\n",
    "\n",
    "        qk = F.softmax(qk, dim=-1)\n",
    "\n",
    "        qkv = qk@v\n",
    "        qkv = qkv.transpose(1,2)\n",
    "        qkv = qkv.reshape(batch_size, sequence_length, self.heads * self.head_dimension)\n",
    "\n",
    "        out = self.output_matrix(qkv)\n",
    "\n",
    "        return out"
   ]
  },
  {
   "cell_type": "code",
   "execution_count": 70,
   "id": "23bb53a4",
   "metadata": {},
   "outputs": [
    {
     "data": {
      "text/plain": [
       "torch.Size([16, 512, 300])"
      ]
     },
     "execution_count": 70,
     "metadata": {},
     "output_type": "execute_result"
    }
   ],
   "source": [
    "input_data = torch.randn(16,512,300)\n",
    "\n",
    "mha = MultiHeadAttention(300,heads=8,head_dimension=32)\n",
    " \n",
    "output = mha(input_data)\n",
    "output.shape"
   ]
  },
  {
   "cell_type": "code",
   "execution_count": 71,
   "id": "f36aca6e",
   "metadata": {},
   "outputs": [],
   "source": [
    "# GPT MINI!\n",
    "model = nn.Sequential(\n",
    "    nn.Embedding(128,64), # (vocab_size, embedding_dim)\n",
    "\n",
    "    MultiHeadAttention(64, heads=4, head_dimension=16),\n",
    "    nn.LayerNorm(64),\n",
    "    nn.Linear(64,100),\n",
    "    nn.ReLU(),\n",
    "    nn.Linear(100,64),\n",
    "\n",
    "    MultiHeadAttention(64, heads=4, head_dimension=16),\n",
    "    nn.LayerNorm(64),\n",
    "    nn.Linear(64,100),\n",
    "    nn.ReLU(),\n",
    "    nn.Linear(100,64),\n",
    "\n",
    "    MultiHeadAttention(64, heads=4, head_dimension=16),\n",
    "    nn.LayerNorm(64),\n",
    "    nn.Linear(64,100),\n",
    "    nn.ReLU(),\n",
    "    nn.Linear(100,64),\n",
    "\n",
    "    nn.Linear(64, 128) # (params, vocab_size)\n",
    "    )\n",
    "\n",
    "loss_fn = nn.CrossEntropyLoss()\n"
   ]
  },
  {
   "cell_type": "code",
   "execution_count": null,
   "id": "0547886c",
   "metadata": {},
   "outputs": [],
   "source": [
    "\n"
   ]
  }
 ],
 "metadata": {
  "kernelspec": {
   "display_name": "torch",
   "language": "python",
   "name": "torch"
  },
  "language_info": {
   "codemirror_mode": {
    "name": "ipython",
    "version": 3
   },
   "file_extension": ".py",
   "mimetype": "text/x-python",
   "name": "python",
   "nbconvert_exporter": "python",
   "pygments_lexer": "ipython3",
   "version": "3.11.3"
  }
 },
 "nbformat": 4,
 "nbformat_minor": 5
}
